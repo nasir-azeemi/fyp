{
 "cells": [
  {
   "cell_type": "code",
   "execution_count": 23,
   "metadata": {},
   "outputs": [],
   "source": [
    "import pandas as pd\n",
    "import numpy as np\n",
    "import tensorflow as tf\n",
    "from keras.models import load_model\n",
    "import ast\n",
    "pd.set_option(\"display.max_rows\", 500, \"display.max_columns\", 500)"
   ]
  },
  {
   "cell_type": "code",
   "execution_count": 24,
   "metadata": {},
   "outputs": [],
   "source": [
    "traits = [\"Openness\", \"Agreeableness\", \"Persistence\", \"Cooperativeness\", \"Openness to Experience\", \"Adjustment\", \"Ambition\", \"Learning Approach\"]\n",
    "\n",
    "f = open(\"CorrelatedQs.txt\", \"r\")\n",
    "questions_dict = f.readline()\n",
    "questions_dict = ast.literal_eval(questions_dict)\n",
    "\n",
    "tp = pd.read_excel('temp.xlsx')\n",
    "# tp = pd.read_csv('questions.csv')"
   ]
  },
  {
   "cell_type": "code",
   "execution_count": 25,
   "metadata": {},
   "outputs": [
    {
     "data": {
      "text/plain": [
       "array([[44.892868]], dtype=float32)"
      ]
     },
     "execution_count": 25,
     "metadata": {},
     "output_type": "execute_result"
    }
   ],
   "source": [
    "trait = \"Openness\"\n",
    "\n",
    "model_Openness = tf.keras.models.load_model(trait + '.h5')\n",
    "\n",
    "selected_df = tp[questions_dict[trait]]\n",
    "x = selected_df.to_numpy()\n",
    "\n",
    "y_pred_Openness = model_Openness.predict(x)\n",
    "\n",
    "y_pred_Openness"
   ]
  },
  {
   "cell_type": "code",
   "execution_count": 26,
   "metadata": {},
   "outputs": [
    {
     "data": {
      "text/plain": [
       "array([[51.041485]], dtype=float32)"
      ]
     },
     "execution_count": 26,
     "metadata": {},
     "output_type": "execute_result"
    }
   ],
   "source": [
    "trait = \"Cooperativeness\"\n",
    "\n",
    "model_Cooperativeness = tf.keras.models.load_model(trait + '.h5')\n",
    "\n",
    "selected_df = tp[questions_dict[trait]]\n",
    "x = selected_df.to_numpy()\n",
    "\n",
    "y_pred_Cooperativeness = model_Cooperativeness.predict(x)\n",
    "\n",
    "y_pred_Cooperativeness"
   ]
  },
  {
   "cell_type": "code",
   "execution_count": 27,
   "metadata": {},
   "outputs": [
    {
     "data": {
      "text/plain": [
       "array([[51.927986]], dtype=float32)"
      ]
     },
     "execution_count": 27,
     "metadata": {},
     "output_type": "execute_result"
    }
   ],
   "source": [
    "trait = \"Adjustment\"\n",
    "\n",
    "model_Adjustment = tf.keras.models.load_model(trait + '.h5')\n",
    "\n",
    "selected_df = tp[questions_dict[trait]]\n",
    "x = selected_df.to_numpy()\n",
    "\n",
    "y_pred_Adjustment = model_Adjustment.predict(x)\n",
    "\n",
    "y_pred_Adjustment"
   ]
  },
  {
   "cell_type": "code",
   "execution_count": 28,
   "metadata": {},
   "outputs": [
    {
     "data": {
      "text/plain": [
       "array([[30.730444]], dtype=float32)"
      ]
     },
     "execution_count": 28,
     "metadata": {},
     "output_type": "execute_result"
    }
   ],
   "source": [
    "trait = \"Persistence\"\n",
    "\n",
    "model_Persistence = tf.keras.models.load_model(trait + '.h5')\n",
    "\n",
    "selected_df = tp[questions_dict[trait]]\n",
    "x = selected_df.to_numpy()\n",
    "\n",
    "y_pred_Persistence = model_Persistence.predict(x)\n",
    "\n",
    "y_pred_Persistence"
   ]
  },
  {
   "cell_type": "code",
   "execution_count": 29,
   "metadata": {},
   "outputs": [
    {
     "data": {
      "text/plain": [
       "array([[69.3545]], dtype=float32)"
      ]
     },
     "execution_count": 29,
     "metadata": {},
     "output_type": "execute_result"
    }
   ],
   "source": [
    "trait = \"Agreeableness\"\n",
    "\n",
    "model_Agreeableness = tf.keras.models.load_model(trait + '.h5')\n",
    "\n",
    "selected_df = tp[questions_dict[trait]]\n",
    "x = selected_df.to_numpy()\n",
    "\n",
    "y_pred_Agreeableness = model_Agreeableness.predict(x)\n",
    "\n",
    "y_pred_Agreeableness"
   ]
  },
  {
   "cell_type": "code",
   "execution_count": 30,
   "metadata": {},
   "outputs": [
    {
     "data": {
      "text/plain": [
       "array([[23.950094]], dtype=float32)"
      ]
     },
     "execution_count": 30,
     "metadata": {},
     "output_type": "execute_result"
    }
   ],
   "source": [
    "trait = \"Ambition\"\n",
    "\n",
    "model_Ambition = tf.keras.models.load_model(trait + '.h5')\n",
    "\n",
    "selected_df = tp[questions_dict[trait]]\n",
    "x = selected_df.to_numpy()\n",
    "\n",
    "y_pred_Ambition = model_Ambition.predict(x)\n",
    "\n",
    "y_pred_Ambition"
   ]
  },
  {
   "cell_type": "code",
   "execution_count": 31,
   "metadata": {},
   "outputs": [
    {
     "data": {
      "text/plain": [
       "array([[39.372784]], dtype=float32)"
      ]
     },
     "execution_count": 31,
     "metadata": {},
     "output_type": "execute_result"
    }
   ],
   "source": [
    "trait = \"Openness to Experience\"\n",
    "\n",
    "model_Openness_to_Experience = tf.keras.models.load_model(trait + '.h5')\n",
    "\n",
    "selected_df = tp[questions_dict[trait]]\n",
    "x = selected_df.to_numpy()\n",
    "\n",
    "y_pred_Openness_to_Experience = model_Openness_to_Experience.predict(x)\n",
    "\n",
    "y_pred_Openness_to_Experience"
   ]
  },
  {
   "cell_type": "code",
   "execution_count": 32,
   "metadata": {},
   "outputs": [
    {
     "data": {
      "text/plain": [
       "array([[7.0968194]], dtype=float32)"
      ]
     },
     "execution_count": 32,
     "metadata": {},
     "output_type": "execute_result"
    }
   ],
   "source": [
    "trait = \"Learning Approach\"\n",
    "\n",
    "model_Learning_Approach = tf.keras.models.load_model(trait + '.h5')\n",
    "\n",
    "selected_df = tp[questions_dict[trait]]\n",
    "x = selected_df.to_numpy()\n",
    "\n",
    "y_pred_Learning_Approach = model_Learning_Approach.predict(x)\n",
    "\n",
    "y_pred_Learning_Approach"
   ]
  }
 ],
 "metadata": {
  "interpreter": {
   "hash": "96a5b2c8615b6af4330dccc0a175f9e1be44a5aebebe076415aefa8805d772c0"
  },
  "kernelspec": {
   "display_name": "Python 3.8.8 64-bit ('base': conda)",
   "language": "python",
   "name": "python3"
  },
  "language_info": {
   "codemirror_mode": {
    "name": "ipython",
    "version": 3
   },
   "file_extension": ".py",
   "mimetype": "text/x-python",
   "name": "python",
   "nbconvert_exporter": "python",
   "pygments_lexer": "ipython3",
   "version": "3.8.4"
  },
  "orig_nbformat": 4
 },
 "nbformat": 4,
 "nbformat_minor": 2
}
